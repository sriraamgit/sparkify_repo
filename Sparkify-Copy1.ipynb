{
 "cells": [
  {
   "cell_type": "markdown",
   "metadata": {},
   "source": [
    "# Sparkify Project Workspace\n",
    "This workspace contains a tiny subset (128MB) of the full dataset available (12GB). Feel free to use this workspace to build your project, or to explore a smaller subset with Spark before deploying your cluster on the cloud. Instructions for setting up your Spark cluster is included in the last lesson of the Extracurricular Spark Course content.\n",
    "\n",
    "You can follow the steps below to guide your data analysis and model building portion of this project."
   ]
  },
  {
   "cell_type": "code",
   "execution_count": 1,
   "metadata": {},
   "outputs": [
    {
     "name": "stdout",
     "output_type": "stream",
     "text": [
      "Requirement already satisfied: pyspark_dist_explore in /opt/conda/lib/python3.6/site-packages (0.1.8)\n",
      "Requirement already satisfied: numpy in /opt/conda/lib/python3.6/site-packages (from pyspark_dist_explore) (1.12.1)\n",
      "Requirement already satisfied: pandas in /opt/conda/lib/python3.6/site-packages (from pyspark_dist_explore) (0.23.3)\n",
      "Requirement already satisfied: matplotlib in /opt/conda/lib/python3.6/site-packages (from pyspark_dist_explore) (2.1.0)\n",
      "Requirement already satisfied: scipy in /opt/conda/lib/python3.6/site-packages (from pyspark_dist_explore) (0.19.1)\n",
      "Requirement already satisfied: python-dateutil>=2.5.0 in /opt/conda/lib/python3.6/site-packages (from pandas->pyspark_dist_explore) (2.6.1)\n",
      "Requirement already satisfied: pytz>=2011k in /opt/conda/lib/python3.6/site-packages (from pandas->pyspark_dist_explore) (2017.3)\n",
      "Requirement already satisfied: six>=1.10 in /opt/conda/lib/python3.6/site-packages (from matplotlib->pyspark_dist_explore) (1.11.0)\n",
      "Requirement already satisfied: cycler>=0.10 in /opt/conda/lib/python3.6/site-packages/cycler-0.10.0-py3.6.egg (from matplotlib->pyspark_dist_explore) (0.10.0)\n",
      "Requirement already satisfied: pyparsing!=2.0.4,!=2.1.2,!=2.1.6,>=2.0.1 in /opt/conda/lib/python3.6/site-packages (from matplotlib->pyspark_dist_explore) (2.2.0)\n"
     ]
    }
   ],
   "source": [
    "! pip install pyspark_dist_explore"
   ]
  },
  {
   "cell_type": "code",
   "execution_count": 2,
   "metadata": {},
   "outputs": [],
   "source": [
    "# import the necessary libraries\n",
    "import datetime\n",
    "import numpy as np\n",
    "import pandas as pd\n",
    "from pyspark.sql import SparkSession\n",
    "from pyspark.sql.types import IntegerType, StringType, BooleanType, StructType, StructField\n",
    "from pyspark.sql.functions import sum as Fsum\n",
    "from pyspark.sql.functions import avg, max, count, when, desc, asc, udf, col, isnan, sort_array, format_string\n",
    "from pyspark.ml.linalg import Vectors\n",
    "from pyspark.ml.evaluation import MulticlassClassificationEvaluator\n",
    "from pyspark.ml.classification import RandomForestClassifier, NaiveBayes, LogisticRegression\n",
    "from pyspark.ml.feature import StandardScaler, VectorAssembler\n",
    "from pyspark.ml.tuning import CrossValidator, ParamGridBuilder\n",
    "from pyspark.ml.regression import LinearRegression\n",
    "from pyspark_dist_explore import hist\n",
    "from pyspark.sql import Window\n",
    "from pyspark.sql import SQLContext\n",
    "import matplotlib.pyplot as plt\n",
    "\n",
    "%matplotlib inline"
   ]
  },
  {
   "cell_type": "code",
   "execution_count": 3,
   "metadata": {},
   "outputs": [],
   "source": [
    "# create a Spark session\n",
    "spark = SparkSession \\\n",
    "    .builder \\\n",
    "    .appName('Sparkify Project') \\\n",
    "    .getOrCreate()\n",
    "    \n"
   ]
  },
  {
   "cell_type": "code",
   "execution_count": 4,
   "metadata": {},
   "outputs": [
    {
     "data": {
      "text/plain": [
       "(286500, 278154)"
      ]
     },
     "execution_count": 4,
     "metadata": {},
     "output_type": "execute_result"
    }
   ],
   "source": [
    "#load the dataset, clean dataset and perform count operation for before and after cleaning\n",
    "sparkify_event_data = 'mini_sparkify_event_data.json'\n",
    "df = spark.read.json(sparkify_event_data)\n",
    "df_cleaned = df.dropna(how = 'any', subset = ['gender'])\n",
    "df.count(), df_cleaned.count()"
   ]
  },
  {
   "cell_type": "markdown",
   "metadata": {},
   "source": [
    "# Feature Engineering\n",
    "Once you've familiarized yourself with the data, build out the features you find promising to train your model on. To work with the full dataset, you can follow the following steps.\n",
    "- Write a script to extract the necessary features from the smaller subset of data\n",
    "- Ensure that your script is scalable, using the best practices discussed in Lesson 3\n",
    "- Try your script on the full data set, debugging your script if necessary\n",
    "\n",
    "If you are working in the classroom workspace, you can just extract features based on the small subset of data contained here. Be sure to transfer over this work to the larger dataset when you work on your Spark cluster."
   ]
  },
  {
   "cell_type": "code",
   "execution_count": 5,
   "metadata": {},
   "outputs": [],
   "source": [
    "#extract gender, check gender and fill the column with 1's and 0's\n",
    "gender_df = df_cleaned.select('userId', 'gender').distinct()\\\n",
    "                        .withColumn('check_male', (df_cleaned.gender == 'M').cast(IntegerType()))\\\n",
    "                        .sort('userId')\\\n",
    "                        .select('userId', 'check_male') "
   ]
  },
  {
   "cell_type": "code",
   "execution_count": 6,
   "metadata": {},
   "outputs": [
    {
     "name": "stdout",
     "output_type": "stream",
     "text": [
      "+------+----------+\n",
      "|userId|check_male|\n",
      "+------+----------+\n",
      "|    10|         1|\n",
      "|   100|         1|\n",
      "|100001|         0|\n",
      "|100002|         0|\n",
      "|100003|         0|\n",
      "|100004|         0|\n",
      "|100005|         1|\n",
      "|100006|         0|\n",
      "|100007|         0|\n",
      "|100008|         0|\n",
      "|100009|         1|\n",
      "|100010|         0|\n",
      "|100011|         1|\n",
      "|100012|         1|\n",
      "|100013|         0|\n",
      "|100014|         1|\n",
      "|100015|         0|\n",
      "|100016|         1|\n",
      "|100017|         1|\n",
      "|100018|         1|\n",
      "+------+----------+\n",
      "only showing top 20 rows\n",
      "\n"
     ]
    }
   ],
   "source": [
    "#display gender\n",
    "gender_df.show()"
   ]
  },
  {
   "cell_type": "code",
   "execution_count": 7,
   "metadata": {},
   "outputs": [
    {
     "name": "stdout",
     "output_type": "stream",
     "text": [
      "['Submit Downgrade', 'Thumbs Down', 'Home', 'Downgrade', 'Roll Advert', 'Logout', 'Save Settings', 'About', 'Settings', 'Add to Playlist', 'Add Friend', 'NextSong', 'Thumbs Up', 'Help', 'Upgrade', 'Error', 'Submit Upgrade']\n"
     ]
    }
   ],
   "source": [
    "#extract pages, remove unwanted pages clean and drop duplicates  \n",
    "pages = [row[0] for row in df_cleaned.select('page').distinct().collect()]\n",
    "pages.remove('Cancel')\n",
    "pages.remove('Cancellation Confirmation')\n",
    "print(pages)\n",
    "windowval = Window.partitionBy('userId')\n",
    "page_df = df_cleaned\n",
    "for page in pages:\n",
    "    page_df = page_df.withColumn(page.replace(' ', ''), Fsum((df_cleaned.page == page).cast(IntegerType())).over(windowval))\n",
    "other_pages = []\n",
    "for page in pages:\n",
    "    other_pages.append(page.replace(' ', ''))\n",
    "page_df = page_df.select('userId', *other_pages).dropDuplicates().sort('userId')\n"
   ]
  },
  {
   "cell_type": "code",
   "execution_count": 8,
   "metadata": {},
   "outputs": [],
   "source": [
    "#extract information about songs like songs count in a session\n",
    "songs_df = df_cleaned.select('userId','sessionId','itemInSession').groupby('userId','sessionId').agg({'itemInSession':'max'}) \\\n",
    "    .groupby('userId').agg(Fsum('max(itemInSession)'), avg('max(itemInSession)'), count('sessionId')) \\\n",
    "    .withColumnRenamed('avg(max(itemInSession))','songs_session_a_v') \\\n",
    "    .withColumnRenamed('sum(max(itemInSession))', 'songs_c') \\\n",
    "    .withColumnRenamed('count(sessionId)', 'sessions_c') \\\n",
    "    .sort('userId')"
   ]
  },
  {
   "cell_type": "code",
   "execution_count": 9,
   "metadata": {},
   "outputs": [
    {
     "name": "stdout",
     "output_type": "stream",
     "text": [
      "+------+-------+-----------------+----------+\n",
      "|userId|songs_c|songs_session_a_v|sessions_c|\n",
      "+------+-------+-----------------+----------+\n",
      "|    10|    813|            135.5|         6|\n",
      "|   100|   3263|93.22857142857143|        35|\n",
      "|100001|    197|            49.25|         4|\n",
      "|100002|    216|             54.0|         4|\n",
      "|100003|     82|             41.0|         2|\n",
      "+------+-------+-----------------+----------+\n",
      "only showing top 5 rows\n",
      "\n"
     ]
    }
   ],
   "source": [
    "#display songs\n",
    "songs_df.show(5)"
   ]
  },
  {
   "cell_type": "code",
   "execution_count": 10,
   "metadata": {},
   "outputs": [],
   "source": [
    "#extract lifetime of user from the timestamp he got in registration \n",
    "lifetime_df = df_cleaned.groupby('userId').agg({'registration':'min', 'ts':'max'})\\\n",
    "    .withColumn('lifetime_in_days', (col('max(ts)') - col('min(registration)'))/1000/60/60/24)\\\n",
    "    .select('userId', 'lifetime_in_days').sort('userId')"
   ]
  },
  {
   "cell_type": "code",
   "execution_count": 11,
   "metadata": {},
   "outputs": [
    {
     "name": "stdout",
     "output_type": "stream",
     "text": [
      "+------+------------------+\n",
      "|userId|  lifetime_in_days|\n",
      "+------+------------------+\n",
      "|    10| 51.76265046296296|\n",
      "|   100| 64.87377314814815|\n",
      "|100001| 44.80021990740741|\n",
      "|100002|160.47207175925925|\n",
      "|100003|22.748113425925926|\n",
      "+------+------------------+\n",
      "only showing top 5 rows\n",
      "\n"
     ]
    }
   ],
   "source": [
    "#display lifetime in days grouped by user\n",
    "lifetime_df.show(5)"
   ]
  },
  {
   "cell_type": "code",
   "execution_count": 12,
   "metadata": {},
   "outputs": [
    {
     "name": "stdout",
     "output_type": "stream",
     "text": [
      "['307', '404', '200']\n"
     ]
    }
   ],
   "source": [
    "#select three status as a list\n",
    "st_list = [str(row[0]) for row in df_cleaned.select('status').distinct().collect()]\n",
    "print(st_list)"
   ]
  },
  {
   "cell_type": "code",
   "execution_count": 13,
   "metadata": {},
   "outputs": [],
   "source": [
    "#take the status extracted as columns\n",
    "st_df = df_cleaned\n",
    "for status in st_list:\n",
    "    st_df = st_df.withColumn('status_'+status, Fsum((df_cleaned.status == status).cast(IntegerType())). over(windowval))\n",
    "st_df = st_df.select('userId', 'status_307', 'status_404', 'status_200').distinct().sort('userId')"
   ]
  },
  {
   "cell_type": "code",
   "execution_count": 14,
   "metadata": {},
   "outputs": [
    {
     "name": "stdout",
     "output_type": "stream",
     "text": [
      "+------+----------+----------+----------+\n",
      "|userId|status_307|status_404|status_200|\n",
      "+------+----------+----------+----------+\n",
      "|    10|        65|         0|       730|\n",
      "|   100|       266|         3|      2945|\n",
      "|100001|        20|         1|       166|\n",
      "|100002|         7|         0|       211|\n",
      "|100003|         7|         0|        71|\n",
      "+------+----------+----------+----------+\n",
      "only showing top 5 rows\n",
      "\n"
     ]
    }
   ],
   "source": [
    "#display distinct status\n",
    "st_df.show(5)"
   ]
  },
  {
   "cell_type": "code",
   "execution_count": 15,
   "metadata": {},
   "outputs": [],
   "source": [
    "#Take a list, function taken to loop through list, give 1 in column if useragent has list value\n",
    "brow = ['Macintosh', 'Windows NT', 'X11', 'iPad', 'iPhone', 'MSIE']\n",
    "u_a_df = df_cleaned\n",
    "@udf\n",
    "def map_ua(row_val):\n",
    "    for val in brow:\n",
    "        if row_val.find(val) > -1:\n",
    "            return(val)\n",
    "u_a_df = u_a_df.select('userId', 'userAgent').distinct() \\\n",
    "    .withColumn('userAgent_sh', map_ua(col('userAgent'))).select('userId', 'userAgent_sh')\n",
    "for val in brow:\n",
    "    u_a_df = u_a_df.withColumn(val.replace(' ', ''), (col('userAgent_sh') == val).cast(IntegerType()))\n",
    "other_brow = []\n",
    "#removing spaces in list names\n",
    "for val in brow:\n",
    "    other_brow.append(val.replace(' ', ''))\n",
    "u_a_df = u_a_df.select('userId', *other_brow)\n",
    "    "
   ]
  },
  {
   "cell_type": "code",
   "execution_count": 16,
   "metadata": {},
   "outputs": [
    {
     "name": "stdout",
     "output_type": "stream",
     "text": [
      "started 2019-11-13 09:00:08.971537\n",
      "+------+---------+---------+---+----+------+----+\n",
      "|userId|Macintosh|WindowsNT|X11|iPad|iPhone|MSIE|\n",
      "+------+---------+---------+---+----+------+----+\n",
      "|200021|        1|        0|  0|   0|     0|   0|\n",
      "|   156|        0|        1|  0|   0|     0|   0|\n",
      "|100010|        0|        0|  0|   0|     1|   0|\n",
      "|     7|        0|        1|  0|   0|     0|   0|\n",
      "|   117|        0|        1|  0|   0|     0|   0|\n",
      "+------+---------+---------+---+----+------+----+\n",
      "only showing top 5 rows\n",
      "\n",
      "ended 2019-11-13 09:00:12.406822\n",
      "CPU times: user 4.76 ms, sys: 0 ns, total: 4.76 ms\n",
      "Wall time: 3.44 s\n"
     ]
    }
   ],
   "source": [
    "#display columns extracted in previous cell\n",
    "%%time\n",
    "print('started', datetime.datetime.now())\n",
    "u_a_df.show(5)\n",
    "print('ended', datetime.datetime.now())"
   ]
  },
  {
   "cell_type": "code",
   "execution_count": 17,
   "metadata": {},
   "outputs": [],
   "source": [
    "#extract the level of user, if paid get maximum user level paid  and fil with 1\n",
    "lev_df = df_cleaned.select('userId', 'level').distinct() \\\n",
    "    .withColumn('u_lev_paid', (df_cleaned.level == 'paid').cast(IntegerType())).groupby('userId') \\\n",
    "    .agg({'u_lev_paid':'max'}).select('userId', 'max(u_lev_paid)') \\\n",
    "    .withColumnRenamed('max(u_lev_paid)', 'paid_success').sort('userId')"
   ]
  },
  {
   "cell_type": "code",
   "execution_count": 18,
   "metadata": {},
   "outputs": [
    {
     "name": "stdout",
     "output_type": "stream",
     "text": [
      "+------+------------+\n",
      "|userId|paid_success|\n",
      "+------+------------+\n",
      "|    10|           1|\n",
      "|   100|           1|\n",
      "|100001|           0|\n",
      "|100002|           1|\n",
      "|100003|           0|\n",
      "+------+------------+\n",
      "only showing top 5 rows\n",
      "\n",
      "CPU times: user 2.2 ms, sys: 324 µs, total: 2.52 ms\n",
      "Wall time: 5.88 s\n"
     ]
    }
   ],
   "source": [
    "#dispay user level\n",
    "%%time\n",
    "lev_df.show(5)"
   ]
  },
  {
   "cell_type": "code",
   "execution_count": 19,
   "metadata": {},
   "outputs": [],
   "source": [
    "#extract labels for user, label 1 for cancellation confirmation to churn users\n",
    "cancel_event_tag = udf(lambda x: 1 if x=='Cancellation Confirmation' else 0, IntegerType())\n",
    "lab_df = df_cleaned.withColumn('cancel_event', cancel_event_tag(df_cleaned['page']))\n",
    "lab_df = lab_df.withColumn('label', Fsum('cancel_event').over(windowval))\n",
    "lab_df = lab_df.select('userId', 'label').dropDuplicates().sort('userId')"
   ]
  },
  {
   "cell_type": "code",
   "execution_count": 20,
   "metadata": {},
   "outputs": [
    {
     "name": "stdout",
     "output_type": "stream",
     "text": [
      "+-----+\n",
      "|label|\n",
      "+-----+\n",
      "|    0|\n",
      "|    1|\n",
      "+-----+\n",
      "\n",
      "+------+-----+\n",
      "|userId|label|\n",
      "+------+-----+\n",
      "|    10|    0|\n",
      "|   100|    0|\n",
      "|100001|    1|\n",
      "|100002|    0|\n",
      "|100003|    1|\n",
      "+------+-----+\n",
      "only showing top 5 rows\n",
      "\n"
     ]
    }
   ],
   "source": [
    "lab_df.select('label').distinct().show()\n",
    "lab_df.show(5)"
   ]
  },
  {
   "cell_type": "code",
   "execution_count": 21,
   "metadata": {},
   "outputs": [],
   "source": [
    "#join all the extracted features and form a dataset\n",
    "filledup_df = lab_df.select('userId', 'label').dropDuplicates().join(gender_df, 'userId').join(lev_df, 'userId') \\\n",
    "    .join(lifetime_df, 'userId').join(page_df, 'userId').join(songs_df, 'userId').join(st_df, 'userId').dropDuplicates() \\\n",
    "    .sort('userId')"
   ]
  },
  {
   "cell_type": "code",
   "execution_count": 22,
   "metadata": {},
   "outputs": [
    {
     "name": "stdout",
     "output_type": "stream",
     "text": [
      "started 2019-11-13 09:00:39.493345\n",
      "+------+-----+----------+------------+------------------+---------------+----------+----+---------+----------+------+------------+-----+--------+-------------+---------+--------+--------+----+-------+-----+-------------+-------+-----------------+----------+----------+----------+----------+\n",
      "|userId|label|check_male|paid_success|  lifetime_in_days|SubmitDowngrade|ThumbsDown|Home|Downgrade|RollAdvert|Logout|SaveSettings|About|Settings|AddtoPlaylist|AddFriend|NextSong|ThumbsUp|Help|Upgrade|Error|SubmitUpgrade|songs_c|songs_session_a_v|sessions_c|status_307|status_404|status_200|\n",
      "+------+-----+----------+------------+------------------+---------------+----------+----+---------+----------+------+------------+-----+--------+-------------+---------+--------+--------+----+-------+-----+-------------+-------+-----------------+----------+----------+----------+----------+\n",
      "|    10|    0|         1|           1| 51.76265046296296|              0|         4|  30|        7|         1|    11|           1|    2|       7|            9|       12|     673|      37|   1|      0|    0|            0|    813|            135.5|         6|        65|         0|       730|\n",
      "|   100|    0|         1|           1| 64.87377314814815|              1|        27| 105|       30|        25|    35|           5|   12|      11|           61|       49|    2682|     148|  18|      1|    3|            1|   3263|93.22857142857143|        35|       266|         3|      2945|\n",
      "|100001|    1|         0|           0| 44.80021990740741|              0|         2|  11|        0|        14|     7|           0|    0|       1|            3|        2|     133|       8|   1|      2|    1|            0|    197|            49.25|         4|        20|         1|       166|\n",
      "|100002|    0|         0|           1|160.47207175925925|              0|         0|   6|        2|         3|     1|           0|    0|       0|            5|        1|     195|       5|   0|      0|    0|            0|    216|             54.0|         4|         7|         0|       211|\n",
      "|100003|    1|         0|           0|22.748113425925926|              0|         0|   7|        0|         9|     3|           0|    0|       0|            2|        0|      51|       3|   1|      0|    0|            0|     82|             41.0|         2|         7|         0|        71|\n",
      "+------+-----+----------+------------+------------------+---------------+----------+----+---------+----------+------+------------+-----+--------+-------------+---------+--------+--------+----+-------+-----+-------------+-------+-----------------+----------+----------+----------+----------+\n",
      "only showing top 5 rows\n",
      "\n",
      "ended 2019-11-13 09:02:15.547560\n",
      "CPU times: user 100 ms, sys: 7.41 ms, total: 108 ms\n",
      "Wall time: 1min 36s\n"
     ]
    }
   ],
   "source": [
    "#display the joined dataset\n",
    "%%time\n",
    "print('started', datetime.datetime.now())\n",
    "filledup_df.show(5)\n",
    "print('ended', datetime.datetime.now())"
   ]
  },
  {
   "cell_type": "code",
   "execution_count": 23,
   "metadata": {},
   "outputs": [
    {
     "data": {
      "text/html": [
       "<div>\n",
       "<style scoped>\n",
       "    .dataframe tbody tr th:only-of-type {\n",
       "        vertical-align: middle;\n",
       "    }\n",
       "\n",
       "    .dataframe tbody tr th {\n",
       "        vertical-align: top;\n",
       "    }\n",
       "\n",
       "    .dataframe thead th {\n",
       "        text-align: right;\n",
       "    }\n",
       "</style>\n",
       "<table border=\"1\" class=\"dataframe\">\n",
       "  <thead>\n",
       "    <tr style=\"text-align: right;\">\n",
       "      <th></th>\n",
       "      <th>userId</th>\n",
       "      <th>label</th>\n",
       "      <th>check_male</th>\n",
       "      <th>paid_success</th>\n",
       "      <th>lifetime_in_days</th>\n",
       "      <th>SubmitDowngrade</th>\n",
       "      <th>ThumbsDown</th>\n",
       "      <th>Home</th>\n",
       "      <th>Downgrade</th>\n",
       "      <th>RollAdvert</th>\n",
       "      <th>...</th>\n",
       "      <th>Help</th>\n",
       "      <th>Upgrade</th>\n",
       "      <th>Error</th>\n",
       "      <th>SubmitUpgrade</th>\n",
       "      <th>songs_c</th>\n",
       "      <th>songs_session_a_v</th>\n",
       "      <th>sessions_c</th>\n",
       "      <th>status_307</th>\n",
       "      <th>status_404</th>\n",
       "      <th>status_200</th>\n",
       "    </tr>\n",
       "  </thead>\n",
       "  <tbody>\n",
       "    <tr>\n",
       "      <th>0</th>\n",
       "      <td>10</td>\n",
       "      <td>0</td>\n",
       "      <td>1</td>\n",
       "      <td>1</td>\n",
       "      <td>51.762650</td>\n",
       "      <td>0</td>\n",
       "      <td>4</td>\n",
       "      <td>30</td>\n",
       "      <td>7</td>\n",
       "      <td>1</td>\n",
       "      <td>...</td>\n",
       "      <td>1</td>\n",
       "      <td>0</td>\n",
       "      <td>0</td>\n",
       "      <td>0</td>\n",
       "      <td>813</td>\n",
       "      <td>135.500000</td>\n",
       "      <td>6</td>\n",
       "      <td>65</td>\n",
       "      <td>0</td>\n",
       "      <td>730</td>\n",
       "    </tr>\n",
       "    <tr>\n",
       "      <th>1</th>\n",
       "      <td>100</td>\n",
       "      <td>0</td>\n",
       "      <td>1</td>\n",
       "      <td>1</td>\n",
       "      <td>64.873773</td>\n",
       "      <td>1</td>\n",
       "      <td>27</td>\n",
       "      <td>105</td>\n",
       "      <td>30</td>\n",
       "      <td>25</td>\n",
       "      <td>...</td>\n",
       "      <td>18</td>\n",
       "      <td>1</td>\n",
       "      <td>3</td>\n",
       "      <td>1</td>\n",
       "      <td>3263</td>\n",
       "      <td>93.228571</td>\n",
       "      <td>35</td>\n",
       "      <td>266</td>\n",
       "      <td>3</td>\n",
       "      <td>2945</td>\n",
       "    </tr>\n",
       "    <tr>\n",
       "      <th>2</th>\n",
       "      <td>100001</td>\n",
       "      <td>1</td>\n",
       "      <td>0</td>\n",
       "      <td>0</td>\n",
       "      <td>44.800220</td>\n",
       "      <td>0</td>\n",
       "      <td>2</td>\n",
       "      <td>11</td>\n",
       "      <td>0</td>\n",
       "      <td>14</td>\n",
       "      <td>...</td>\n",
       "      <td>1</td>\n",
       "      <td>2</td>\n",
       "      <td>1</td>\n",
       "      <td>0</td>\n",
       "      <td>197</td>\n",
       "      <td>49.250000</td>\n",
       "      <td>4</td>\n",
       "      <td>20</td>\n",
       "      <td>1</td>\n",
       "      <td>166</td>\n",
       "    </tr>\n",
       "    <tr>\n",
       "      <th>3</th>\n",
       "      <td>100002</td>\n",
       "      <td>0</td>\n",
       "      <td>0</td>\n",
       "      <td>1</td>\n",
       "      <td>160.472072</td>\n",
       "      <td>0</td>\n",
       "      <td>0</td>\n",
       "      <td>6</td>\n",
       "      <td>2</td>\n",
       "      <td>3</td>\n",
       "      <td>...</td>\n",
       "      <td>0</td>\n",
       "      <td>0</td>\n",
       "      <td>0</td>\n",
       "      <td>0</td>\n",
       "      <td>216</td>\n",
       "      <td>54.000000</td>\n",
       "      <td>4</td>\n",
       "      <td>7</td>\n",
       "      <td>0</td>\n",
       "      <td>211</td>\n",
       "    </tr>\n",
       "    <tr>\n",
       "      <th>4</th>\n",
       "      <td>100003</td>\n",
       "      <td>1</td>\n",
       "      <td>0</td>\n",
       "      <td>0</td>\n",
       "      <td>22.748113</td>\n",
       "      <td>0</td>\n",
       "      <td>0</td>\n",
       "      <td>7</td>\n",
       "      <td>0</td>\n",
       "      <td>9</td>\n",
       "      <td>...</td>\n",
       "      <td>1</td>\n",
       "      <td>0</td>\n",
       "      <td>0</td>\n",
       "      <td>0</td>\n",
       "      <td>82</td>\n",
       "      <td>41.000000</td>\n",
       "      <td>2</td>\n",
       "      <td>7</td>\n",
       "      <td>0</td>\n",
       "      <td>71</td>\n",
       "    </tr>\n",
       "  </tbody>\n",
       "</table>\n",
       "<p>5 rows × 28 columns</p>\n",
       "</div>"
      ],
      "text/plain": [
       "   userId  label  check_male  paid_success  lifetime_in_days  SubmitDowngrade  \\\n",
       "0      10      0           1             1         51.762650                0   \n",
       "1     100      0           1             1         64.873773                1   \n",
       "2  100001      1           0             0         44.800220                0   \n",
       "3  100002      0           0             1        160.472072                0   \n",
       "4  100003      1           0             0         22.748113                0   \n",
       "\n",
       "   ThumbsDown  Home  Downgrade  RollAdvert     ...      Help  Upgrade  Error  \\\n",
       "0           4    30          7           1     ...         1        0      0   \n",
       "1          27   105         30          25     ...        18        1      3   \n",
       "2           2    11          0          14     ...         1        2      1   \n",
       "3           0     6          2           3     ...         0        0      0   \n",
       "4           0     7          0           9     ...         1        0      0   \n",
       "\n",
       "   SubmitUpgrade  songs_c  songs_session_a_v  sessions_c  status_307  \\\n",
       "0              0      813         135.500000           6          65   \n",
       "1              1     3263          93.228571          35         266   \n",
       "2              0      197          49.250000           4          20   \n",
       "3              0      216          54.000000           4           7   \n",
       "4              0       82          41.000000           2           7   \n",
       "\n",
       "   status_404  status_200  \n",
       "0           0         730  \n",
       "1           3        2945  \n",
       "2           1         166  \n",
       "3           0         211  \n",
       "4           0          71  \n",
       "\n",
       "[5 rows x 28 columns]"
      ]
     },
     "execution_count": 23,
     "metadata": {},
     "output_type": "execute_result"
    }
   ],
   "source": [
    "#convert to pandas dataframe\n",
    "filledup_df.toPandas().head()"
   ]
  },
  {
   "cell_type": "code",
   "execution_count": 24,
   "metadata": {},
   "outputs": [
    {
     "name": "stdout",
     "output_type": "stream",
     "text": [
      "['userId', 'label', 'check_male', 'paid_success', 'lifetime_in_days', 'SubmitDowngrade', 'ThumbsDown', 'Home', 'Downgrade', 'RollAdvert', 'Logout', 'SaveSettings', 'About', 'Settings', 'AddtoPlaylist', 'AddFriend', 'NextSong', 'ThumbsUp', 'Help', 'Upgrade', 'Error', 'SubmitUpgrade', 'songs_c', 'songs_session_a_v', 'sessions_c', 'status_307', 'status_404', 'status_200']\n",
      "['check_male', 'paid_success', 'lifetime_in_days', 'SubmitDowngrade', 'ThumbsDown', 'Home', 'Downgrade', 'RollAdvert', 'Logout', 'SaveSettings', 'About', 'Settings', 'AddtoPlaylist', 'AddFriend', 'NextSong', 'ThumbsUp', 'Help', 'Upgrade', 'Error', 'SubmitUpgrade', 'songs_c', 'songs_session_a_v', 'sessions_c', 'status_307', 'status_404', 'status_200']\n"
     ]
    }
   ],
   "source": [
    "#pull out names of columns as features list, remove userid and label\n",
    "from pyspark.ml.feature import StringIndexer,VectorAssembler,OneHotEncoder\n",
    "features = list(filledup_df.columns)\n",
    "print(features)\n",
    "features.remove('userId')\n",
    "features.remove('label')\n",
    "print(features)"
   ]
  },
  {
   "cell_type": "code",
   "execution_count": 25,
   "metadata": {},
   "outputs": [
    {
     "name": "stdout",
     "output_type": "stream",
     "text": [
      "+----------------+---------+---------+------+-------------+--------+---------+-----+--------------------+------+--------+-------------+---------+---------+------+-------------+--------------------+------+\n",
      "|          artist|     auth|firstName|gender|itemInSession|lastName|   length|level|            location|method|    page| registration|sessionId|     song|status|           ts|           userAgent|userId|\n",
      "+----------------+---------+---------+------+-------------+--------+---------+-----+--------------------+------+--------+-------------+---------+---------+------+-------------+--------------------+------+\n",
      "|  Martha Tilston|Logged In|    Colin|     M|           50| Freeman|277.89016| paid|     Bakersfield, CA|   PUT|NextSong|1538173362000|       29|Rockpools|   200|1538352117000|Mozilla/5.0 (Wind...|    30|\n",
      "|Five Iron Frenzy|Logged In|    Micah|     M|           79|    Long|236.09424| free|Boston-Cambridge-...|   PUT|NextSong|1538331630000|        8|   Canada|   200|1538352180000|\"Mozilla/5.0 (Win...|     9|\n",
      "+----------------+---------+---------+------+-------------+--------+---------+-----+--------------------+------+--------+-------------+---------+---------+------+-------------+--------------------+------+\n",
      "only showing top 2 rows\n",
      "\n"
     ]
    }
   ],
   "source": [
    "#drop nans in gender column\n",
    "df_cleaned = df.dropna(how='any', subset=['gender'])\n",
    "df_cleaned.show(2)"
   ]
  },
  {
   "cell_type": "code",
   "execution_count": 26,
   "metadata": {},
   "outputs": [],
   "source": [
    "def new_df(df):\n",
    "    gender_df = df_cleaned.select('userId', 'gender').distinct()\\\n",
    "                     .withColumn('check_male', (df_cleaned.gender == 'M').cast(IntegerType()))\\\n",
    "                     .sort('userId')\\\n",
    "                     .select('userId', 'check_male')\n",
    "    \n",
    "    print('pages...')\n",
    "    pages = [row(0) for row in df_cleaned.select('page').distinct().collect()]\n",
    "    #pages.remove('Cancel')\n",
    "    #pages.remove('Cancellation Confirmation')\n",
    "    winndowval = Window.partitionBy('userId')\n",
    "    page_df = df_cleaned\n",
    "    for page in pages:\n",
    "        page_df = page_df.withColumn(page.replace(' ', ''), Fsum((df_cleaned.page == page).cast(IntegerType())).over(windowval))\n",
    "    other_pages = []\n",
    "    for page in pages:\n",
    "        other_pages.append(page.replace(' ', ''))\n",
    "    page_df = page_df.select('userId', *other_pages).dropDuplicates().sort('userId')\n",
    "    \n",
    "    print('item...')\n",
    "    songs_df = df_cleaned.select('userId','sessionId','itemInSession') \\\n",
    "                            .groupby('userId','sessionId') \\\n",
    "                            .agg({'itemInSession':'max'}) \\\n",
    "                            .groupby('userId') \\\n",
    "                            .agg( Fsum('max(itemInSession)'), avg('max(itemInSession)'), count('sessionId') ) \\\n",
    "                            .withColumnRenamed('avg(max(itemInSession))','songs_session_a_v') \\\n",
    "                            .withColumnRenamed('sum(max(itemInSession))', 'songs_c') \\\n",
    "                            .withColumnRenamed('count(sessionId)', 'sessions_c') \\\n",
    "                            .sort('userId')\n",
    "    print('lifetime...')\n",
    "    lifetime_df = df_cleaned.groupby('userId') \\\n",
    "                  .agg({'registration':'min', 'ts':'max'})\\\n",
    "                  .withColumn('lifetime_in_days', (col('max(ts)')-col('min(registration)'))/1000/60/60/24)\\\n",
    "                  .select('userId', 'lifetime_in_days') \\\n",
    "                  .sort('userId')\n",
    "    print('status...')\n",
    "    st_list = [str(row[0]) for row in df_cleaned.select('status').distinct().collect()]\n",
    "    st_df = df_cleaned\n",
    "    for status in st_list:\n",
    "        st_df = st_df.withColumn('status_'+status, Fsum((df_cleaned.status == status).cast(IntegerType())).over(windowval))\n",
    "    st_df = st_df.select('userId', 'status_307', 'status_404', 'status_200').distinct().sort('userId')\n",
    "    print('level...')\n",
    "    lev_df = df_cleaned.select('userId', 'level').distinct() \\\n",
    "                      .withColumn('u_lev_paid', (df_cleaned.level == 'paid').cast(IntegerType())) \\\n",
    "                      .groupby('userId') \\\n",
    "                      .agg({'u_lev_paid':'max'}) \\\n",
    "                      .select('userId', 'max(u_lev_paid)') \\\n",
    "                      .withColumnRenamed('max(u_lev_paid)', 'paid_success') \\\n",
    "                      .sort('userId')\n",
    "    print('label...')\n",
    "    phase_ev = udf(lambda x: 1 if x=='Cancellation Confirmation' else 0, IntegerType())\n",
    "    lab_df = df_cleaned.withColumn('phase', phase_ev(df_cleaned['page']))\n",
    "    lab_df = lab_df.withColumn('label', Fsum('phase').over(windowval))\n",
    "    lab_df = lab_df.select('userId', 'label').dropDuplicates().sort('userId')\n",
    "    print('joining...')\n",
    "    features_df = lab_df.select('userId', 'label').dropDuplicates().join(gender_df, 'userId').join(lev_df, 'userId') \\\n",
    "        .join(lifetime_df, 'userId').join(page_df, 'userId').join(songs_df, 'userId').join(st_df, 'userId').dropDuplicates() \\\n",
    "        .sort('userId')\n",
    "    return(features_df)"
   ]
  },
  {
   "cell_type": "markdown",
   "metadata": {},
   "source": [
    "# Modeling\n",
    "Split the full dataset into train, test, and validation sets. Test out several of the machine learning methods you learned. Evaluate the accuracy of the various models, tuning parameters as necessary. Determine your winning model based on test accuracy and report results on the validation set. Since the churned users are a fairly small subset, I suggest using F1 score as the metric to optimize."
   ]
  },
  {
   "cell_type": "code",
   "execution_count": 27,
   "metadata": {},
   "outputs": [
    {
     "data": {
      "text/plain": [
       "225"
      ]
     },
     "execution_count": 27,
     "metadata": {},
     "output_type": "execute_result"
    }
   ],
   "source": [
    "#count the number in pandas dataframe\n",
    "filledup_df.count()"
   ]
  },
  {
   "cell_type": "code",
   "execution_count": 28,
   "metadata": {},
   "outputs": [
    {
     "name": "stdout",
     "output_type": "stream",
     "text": [
      "CPU times: user 7.45 ms, sys: 1.38 ms, total: 8.84 ms\n",
      "Wall time: 360 ms\n"
     ]
    }
   ],
   "source": [
    "#use vector assembler to transform\n",
    "%%time\n",
    "assembler = VectorAssembler(inputCols=features, outputCol='features_vector')\n",
    "filledup_df = assembler.transform(filledup_df)"
   ]
  },
  {
   "cell_type": "code",
   "execution_count": 29,
   "metadata": {},
   "outputs": [
    {
     "name": "stdout",
     "output_type": "stream",
     "text": [
      "+------+-----+----------+------------+-----------------+---------------+----------+----+---------+----------+------+------------+-----+--------+-------------+---------+--------+--------+----+-------+-----+-------------+-------+-----------------+----------+----------+----------+----------+--------------------+\n",
      "|userId|label|check_male|paid_success| lifetime_in_days|SubmitDowngrade|ThumbsDown|Home|Downgrade|RollAdvert|Logout|SaveSettings|About|Settings|AddtoPlaylist|AddFriend|NextSong|ThumbsUp|Help|Upgrade|Error|SubmitUpgrade|songs_c|songs_session_a_v|sessions_c|status_307|status_404|status_200|     features_vector|\n",
      "+------+-----+----------+------------+-----------------+---------------+----------+----+---------+----------+------+------------+-----+--------+-------------+---------+--------+--------+----+-------+-----+-------------+-------+-----------------+----------+----------+----------+----------+--------------------+\n",
      "|    10|    0|         1|           1|51.76265046296296|              0|         4|  30|        7|         1|    11|           1|    2|       7|            9|       12|     673|      37|   1|      0|    0|            0|    813|            135.5|         6|        65|         0|       730|[1.0,1.0,51.76265...|\n",
      "|   100|    0|         1|           1|64.87377314814815|              1|        27| 105|       30|        25|    35|           5|   12|      11|           61|       49|    2682|     148|  18|      1|    3|            1|   3263|93.22857142857143|        35|       266|         3|      2945|[1.0,1.0,64.87377...|\n",
      "+------+-----+----------+------------+-----------------+---------------+----------+----+---------+----------+------+------------+-----+--------+-------------+---------+--------+--------+----+-------+-----+-------------+-------+-----------------+----------+----------+----------+----------+--------------------+\n",
      "only showing top 2 rows\n",
      "\n"
     ]
    }
   ],
   "source": [
    "#show two rows in dataframe\n",
    "filledup_df.show(2)"
   ]
  },
  {
   "cell_type": "code",
   "execution_count": 30,
   "metadata": {},
   "outputs": [
    {
     "name": "stdout",
     "output_type": "stream",
     "text": [
      "['check_male', 'paid_success', 'lifetime_in_days', 'SubmitDowngrade', 'ThumbsDown', 'Home', 'Downgrade', 'RollAdvert', 'Logout', 'SaveSettings', 'About', 'Settings', 'AddtoPlaylist', 'AddFriend', 'NextSong', 'ThumbsUp', 'Help', 'Upgrade', 'Error', 'SubmitUpgrade', 'songs_c', 'songs_session_a_v', 'sessions_c', 'status_307', 'status_404', 'status_200']\n"
     ]
    }
   ],
   "source": [
    "#display column names as features\n",
    "print(features)"
   ]
  },
  {
   "cell_type": "code",
   "execution_count": 31,
   "metadata": {},
   "outputs": [
    {
     "name": "stdout",
     "output_type": "stream",
     "text": [
      "CPU times: user 115 ms, sys: 30.1 ms, total: 145 ms\n",
      "Wall time: 1min 19s\n"
     ]
    }
   ],
   "source": [
    "#take standard scaler fit and transform\n",
    "%%time\n",
    "standardScaler = StandardScaler(inputCol='features_vector', outputCol='features_scaled')\n",
    "scaler = standardScaler.fit(filledup_df)\n",
    "scaled_df = scaler.transform(filledup_df)"
   ]
  },
  {
   "cell_type": "code",
   "execution_count": 32,
   "metadata": {},
   "outputs": [],
   "source": [
    "#split the transformed output of standard scaler into train and test \n",
    "train, test = scaled_df.randomSplit([0.8, 0.2], seed=42)"
   ]
  },
  {
   "cell_type": "code",
   "execution_count": 38,
   "metadata": {},
   "outputs": [],
   "source": [
    "def eva_metrics(predictionAndLabels):\n",
    "    '''\n",
    "    function to evaluate metrics using MultiClasscassificationEvaluator\n",
    "    INPUT: predicted output of the different classifiers(naive_bayes, random forest)\n",
    "    OUTPUT: metrics like F1-score, accuracy, precision, recall\n",
    "    '''\n",
    "    met_f1 = MulticlassClassificationEvaluator(metricName='f1')\n",
    "    met_acc = MulticlassClassificationEvaluator(metricName='accuracy')\n",
    "    met_pre = MulticlassClassificationEvaluator(metricName='weightedPrecision')\n",
    "    met_rec = MulticlassClassificationEvaluator(metricName='weightedRecall')\n",
    "    f1_sc = met_f1.evaluate(predictionAndLabels.select(col('label'), col('prediction')))\n",
    "    acc_sc = met_acc.evaluate(predictionAndLabels.select(col('label'), col('prediction')))\n",
    "    pre_sc = met_pre.evaluate(predictionAndLabels.select(col('label'), col('prediction')))\n",
    "    rec_sc = met_rec.evaluate(predictionAndLabels.select(col('label'), col('prediction')))\n",
    "    print('F1_Score: ', f1_sc)\n",
    "    print('Accuracy: ', acc_sc)\n",
    "    print('Precision: ', pre_sc)\n",
    "    print('Recall: ', rec_sc)\n",
    "    "
   ]
  },
  {
   "cell_type": "code",
   "execution_count": 41,
   "metadata": {},
   "outputs": [
    {
     "name": "stdout",
     "output_type": "stream",
     "text": [
      "CPU times: user 267 ms, sys: 109 ms, total: 376 ms\n",
      "Wall time: 4min 2s\n"
     ]
    }
   ],
   "source": [
    "#using naive bayes classifier\n",
    "%%time\n",
    "nav_bay = NaiveBayes(featuresCol='features_scaled',labelCol = 'label')\n",
    "nav_bay_model = nav_bay.fit(train)\n",
    "nav_bay_pred = nav_bay_model.transform(test)"
   ]
  },
  {
   "cell_type": "code",
   "execution_count": 42,
   "metadata": {},
   "outputs": [
    {
     "name": "stdout",
     "output_type": "stream",
     "text": [
      "started <built-in method now of type object at 0x7f17281c7120>\n",
      "F1_Score:  0.7416149068322981\n",
      "Accuracy:  0.7608695652173914\n",
      "Precision:  0.7288043478260868\n",
      "Recall:  0.7608695652173912\n",
      "CPU times: user 520 ms, sys: 235 ms, total: 755 ms\n",
      "Wall time: 6min 2s\n"
     ]
    }
   ],
   "source": [
    "#display metrics of naive bayes\n",
    "%%time\n",
    "print('started', datetime.datetime.now)\n",
    "eva_metrics(nav_bay_pred)"
   ]
  },
  {
   "cell_type": "code",
   "execution_count": 46,
   "metadata": {},
   "outputs": [],
   "source": [
    "#using random forest classifier\n",
    "#I have seected these classifiers as they gave me good outputs in previous projects also\n",
    "ran_for = RandomForestClassifier(featuresCol = 'features_scaled', labelCol = 'label', numTrees = 15, seed=42)\n",
    "ran_for_model = ran_for.fit(train)\n",
    "ran_for_pred = ran_for_model.transform(test)"
   ]
  },
  {
   "cell_type": "code",
   "execution_count": 47,
   "metadata": {},
   "outputs": [
    {
     "name": "stdout",
     "output_type": "stream",
     "text": [
      "started <built-in method now of type object at 0x7f17281c7120>\n",
      "F1_Score:  0.7571269310399745\n",
      "Accuracy:  0.782608695652174\n",
      "Precision:  0.7452810180275715\n",
      "Recall:  0.7826086956521738\n",
      "CPU times: user 456 ms, sys: 286 ms, total: 742 ms\n",
      "Wall time: 6min 3s\n"
     ]
    }
   ],
   "source": [
    "#display random forest metrics\n",
    "%%time\n",
    "print('started', datetime.datetime.now)\n",
    "eva_metrics(ran_for_pred)"
   ]
  },
  {
   "cell_type": "code",
   "execution_count": 51,
   "metadata": {},
   "outputs": [],
   "source": [
    "#tuning feature parameters for best metrics\n",
    "#here I have taken less parameters and their value also as less keeping in view memory and time problems\n",
    "pa_grid = ParamGridBuilder().addGrid(ran_for.maxDepth,[2, 4]).addGrid(ran_for.maxBins,[5, 10]).build()\n",
    "\n",
    "cv = CrossValidator(estimator=ran_for, estimatorParamMaps=pa_grid, \n",
    "                    evaluator=MulticlassClassificationEvaluator(metricName='f1'),\n",
    "                    numFolds = 3)\n",
    "                    "
   ]
  },
  {
   "cell_type": "code",
   "execution_count": 52,
   "metadata": {},
   "outputs": [
    {
     "name": "stdout",
     "output_type": "stream",
     "text": [
      "started <built-in method now of type object at 0x7f17281c7120>\n",
      "ended <built-in method now of type object at 0x7f17281c7120>\n",
      "CPU times: user 3.64 s, sys: 1.39 s, total: 5.03 s\n",
      "Wall time: 18min 13s\n"
     ]
    }
   ],
   "source": [
    "#fit the above into part of dataset\n",
    "%%time\n",
    "print('started', datetime.datetime.now)\n",
    "cv_tune = cv.fit(train)\n",
    "print('ended', datetime.datetime.now)"
   ]
  },
  {
   "cell_type": "code",
   "execution_count": 53,
   "metadata": {},
   "outputs": [
    {
     "data": {
      "text/plain": [
       "[0.6512608667499973, 0.6665214977513689, 0.737275367085864, 0.6782776996763726]"
      ]
     },
     "execution_count": 53,
     "metadata": {},
     "output_type": "execute_result"
    }
   ],
   "source": [
    "#display metrics\n",
    "cv_tune.avgMetrics"
   ]
  },
  {
   "cell_type": "code",
   "execution_count": 54,
   "metadata": {},
   "outputs": [
    {
     "data": {
      "text/plain": [
       "RandomForestClassificationModel (uid=RandomForestClassifier_9013dd84243d) with 15 trees"
      ]
     },
     "execution_count": 54,
     "metadata": {},
     "output_type": "execute_result"
    }
   ],
   "source": [
    "#display best mode\n",
    "cv_tune.bestModel"
   ]
  },
  {
   "cell_type": "code",
   "execution_count": 55,
   "metadata": {},
   "outputs": [
    {
     "data": {
      "text/plain": [
       "SparseVector(26, {0: 0.0057, 1: 0.0086, 2: 0.2333, 4: 0.0609, 5: 0.0174, 6: 0.0032, 7: 0.0239, 8: 0.0396, 9: 0.0584, 10: 0.0422, 11: 0.0215, 12: 0.0328, 13: 0.051, 14: 0.0107, 15: 0.0219, 16: 0.0092, 17: 0.0986, 18: 0.02, 19: 0.0014, 20: 0.0083, 21: 0.0403, 22: 0.0838, 23: 0.0623, 24: 0.0238, 25: 0.0214})"
      ]
     },
     "execution_count": 55,
     "metadata": {},
     "output_type": "execute_result"
    }
   ],
   "source": [
    "#display feature importances\n",
    "cv_tune.bestModel.featureImportances"
   ]
  },
  {
   "cell_type": "code",
   "execution_count": 57,
   "metadata": {},
   "outputs": [],
   "source": [
    "#take features as index and columns as impotances\n",
    "feat_imp = pd.DataFrame(cv_tune.bestModel.featureImportances.toArray(),\n",
    "                        index=features, columns=['importance']).sort_values('importance',ascending=False)"
   ]
  },
  {
   "cell_type": "code",
   "execution_count": 58,
   "metadata": {},
   "outputs": [
    {
     "data": {
      "text/html": [
       "<div>\n",
       "<style scoped>\n",
       "    .dataframe tbody tr th:only-of-type {\n",
       "        vertical-align: middle;\n",
       "    }\n",
       "\n",
       "    .dataframe tbody tr th {\n",
       "        vertical-align: top;\n",
       "    }\n",
       "\n",
       "    .dataframe thead th {\n",
       "        text-align: right;\n",
       "    }\n",
       "</style>\n",
       "<table border=\"1\" class=\"dataframe\">\n",
       "  <thead>\n",
       "    <tr style=\"text-align: right;\">\n",
       "      <th></th>\n",
       "      <th>importance</th>\n",
       "    </tr>\n",
       "  </thead>\n",
       "  <tbody>\n",
       "    <tr>\n",
       "      <th>lifetime_in_days</th>\n",
       "      <td>0.233255</td>\n",
       "    </tr>\n",
       "    <tr>\n",
       "      <th>Upgrade</th>\n",
       "      <td>0.098579</td>\n",
       "    </tr>\n",
       "    <tr>\n",
       "      <th>sessions_c</th>\n",
       "      <td>0.083794</td>\n",
       "    </tr>\n",
       "    <tr>\n",
       "      <th>status_307</th>\n",
       "      <td>0.062307</td>\n",
       "    </tr>\n",
       "    <tr>\n",
       "      <th>ThumbsDown</th>\n",
       "      <td>0.060914</td>\n",
       "    </tr>\n",
       "    <tr>\n",
       "      <th>SaveSettings</th>\n",
       "      <td>0.058388</td>\n",
       "    </tr>\n",
       "    <tr>\n",
       "      <th>AddFriend</th>\n",
       "      <td>0.050997</td>\n",
       "    </tr>\n",
       "    <tr>\n",
       "      <th>About</th>\n",
       "      <td>0.042173</td>\n",
       "    </tr>\n",
       "    <tr>\n",
       "      <th>songs_session_a_v</th>\n",
       "      <td>0.040279</td>\n",
       "    </tr>\n",
       "    <tr>\n",
       "      <th>Logout</th>\n",
       "      <td>0.039582</td>\n",
       "    </tr>\n",
       "    <tr>\n",
       "      <th>AddtoPlaylist</th>\n",
       "      <td>0.032800</td>\n",
       "    </tr>\n",
       "    <tr>\n",
       "      <th>RollAdvert</th>\n",
       "      <td>0.023913</td>\n",
       "    </tr>\n",
       "    <tr>\n",
       "      <th>status_404</th>\n",
       "      <td>0.023767</td>\n",
       "    </tr>\n",
       "    <tr>\n",
       "      <th>ThumbsUp</th>\n",
       "      <td>0.021884</td>\n",
       "    </tr>\n",
       "    <tr>\n",
       "      <th>Settings</th>\n",
       "      <td>0.021487</td>\n",
       "    </tr>\n",
       "    <tr>\n",
       "      <th>status_200</th>\n",
       "      <td>0.021352</td>\n",
       "    </tr>\n",
       "    <tr>\n",
       "      <th>Error</th>\n",
       "      <td>0.020012</td>\n",
       "    </tr>\n",
       "    <tr>\n",
       "      <th>Home</th>\n",
       "      <td>0.017356</td>\n",
       "    </tr>\n",
       "    <tr>\n",
       "      <th>NextSong</th>\n",
       "      <td>0.010717</td>\n",
       "    </tr>\n",
       "    <tr>\n",
       "      <th>Help</th>\n",
       "      <td>0.009197</td>\n",
       "    </tr>\n",
       "    <tr>\n",
       "      <th>paid_success</th>\n",
       "      <td>0.008641</td>\n",
       "    </tr>\n",
       "    <tr>\n",
       "      <th>songs_c</th>\n",
       "      <td>0.008305</td>\n",
       "    </tr>\n",
       "    <tr>\n",
       "      <th>check_male</th>\n",
       "      <td>0.005719</td>\n",
       "    </tr>\n",
       "    <tr>\n",
       "      <th>Downgrade</th>\n",
       "      <td>0.003158</td>\n",
       "    </tr>\n",
       "    <tr>\n",
       "      <th>SubmitUpgrade</th>\n",
       "      <td>0.001422</td>\n",
       "    </tr>\n",
       "    <tr>\n",
       "      <th>SubmitDowngrade</th>\n",
       "      <td>0.000000</td>\n",
       "    </tr>\n",
       "  </tbody>\n",
       "</table>\n",
       "</div>"
      ],
      "text/plain": [
       "                   importance\n",
       "lifetime_in_days     0.233255\n",
       "Upgrade              0.098579\n",
       "sessions_c           0.083794\n",
       "status_307           0.062307\n",
       "ThumbsDown           0.060914\n",
       "SaveSettings         0.058388\n",
       "AddFriend            0.050997\n",
       "About                0.042173\n",
       "songs_session_a_v    0.040279\n",
       "Logout               0.039582\n",
       "AddtoPlaylist        0.032800\n",
       "RollAdvert           0.023913\n",
       "status_404           0.023767\n",
       "ThumbsUp             0.021884\n",
       "Settings             0.021487\n",
       "status_200           0.021352\n",
       "Error                0.020012\n",
       "Home                 0.017356\n",
       "NextSong             0.010717\n",
       "Help                 0.009197\n",
       "paid_success         0.008641\n",
       "songs_c              0.008305\n",
       "check_male           0.005719\n",
       "Downgrade            0.003158\n",
       "SubmitUpgrade        0.001422\n",
       "SubmitDowngrade      0.000000"
      ]
     },
     "execution_count": 58,
     "metadata": {},
     "output_type": "execute_result"
    }
   ],
   "source": [
    "#display the above cell\n",
    "feat_imp"
   ]
  },
  {
   "cell_type": "code",
   "execution_count": 59,
   "metadata": {},
   "outputs": [
    {
     "data": {
      "image/png": "[encoded data removed]",
      "text/plain": [
       "<matplotlib.figure.Figure at 0x7f16f137c208>"
      ]
     },
     "metadata": {
      "needs_background": "light"
     },
     "output_type": "display_data"
    }
   ],
   "source": [
    "#plot as barh ,take importance as x and features as y\n",
    "feat_imp.iloc[:15,:].plot(kind='barh');\n",
    "plt.xlabel = 'Feature Importances by RFClassifier'"
   ]
  },
  {
   "cell_type": "markdown",
   "metadata": {},
   "source": [
    "# Final Steps\n",
    "Clean up your code, adding comments and renaming variables to make the code easier to read and maintain. Refer to the Spark Project Overview page and Data Scientist Capstone Project Rubric to make sure you are including all components of the capstone project and meet all expectations. Remember, this includes thorough documentation in a README file in a Github repository, as well as a web app or blog post."
   ]
  },
  {
   "cell_type": "code",
   "execution_count": null,
   "metadata": {},
   "outputs": [],
   "source": [
    "#The reason for continuing the project here is I got, \"java.lang.OutOfMemoryError: no enough memory for aggregation\",I searched\n",
    "#in google browser worried about the error , I have taken this extra notebook and continued the project here."
   ]
  }
 ],
 "metadata": {
  "kernelspec": {
   "display_name": "Python 3",
   "language": "python",
   "name": "python3"
  },
  "language_info": {
   "codemirror_mode": {
    "name": "ipython",
    "version": 3
   },
   "file_extension": ".py",
   "mimetype": "text/x-python",
   "name": "python",
   "nbconvert_exporter": "python",
   "pygments_lexer": "ipython3",
   "version": "3.6.3"
  }
 },
 "nbformat": 4,
 "nbformat_minor": 2
}
